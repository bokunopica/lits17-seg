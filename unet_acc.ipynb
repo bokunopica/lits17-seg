{
 "cells": [
  {
   "cell_type": "code",
   "execution_count": 3,
   "metadata": {},
   "outputs": [],
   "source": [
    "%matplotlib inline\n",
    "import os\n",
    "import torch\n",
    "import torchvision\n",
    "from torch import nn\n",
    "from torch.nn import functional as F\n",
    "import matplotlib.pyplot as plt\n",
    "import torchvision.transforms as tt\n",
    "import numpy as np\n",
    "from tqdm import tqdm\n",
    "from torch.utils.data import Dataset, DataLoader"
   ]
  },
  {
   "cell_type": "code",
   "execution_count": 2,
   "metadata": {},
   "outputs": [],
   "source": [
    "class ToDeviceLoader:\n",
    "    def __init__(self,data,device):\n",
    "        self.data = data\n",
    "        self.device = device\n",
    "        \n",
    "    def __iter__(self):\n",
    "        for batch in self.data:\n",
    "            yield to_device(batch,self.device)\n",
    "            \n",
    "    def __len__(self):\n",
    "        return len(self.data)\n",
    "    \n",
    "def to_device(data,device):\n",
    "    if isinstance(data,(list,tuple)):\n",
    "        return [to_device(x,device) for x in data]\n",
    "    return data.to(device,non_blocking=True)\n",
    "\n",
    "def get_device():\n",
    "    if torch.cuda.is_available():\n",
    "        return torch.device(\"cuda\")\n",
    "    return torch.device(\"cpu\")"
   ]
  },
  {
   "cell_type": "code",
   "execution_count": 3,
   "metadata": {},
   "outputs": [],
   "source": [
    "# HYPER_PARAMETER\n",
    "NUM_CLASSES = 21\n",
    "# DATA_DIR = \"/home/qianq/mycodes/d2l-zh/pytorch/data/VOCdevkit/VOC2012\"\n",
    "device = get_device()\n",
    "BATCH_SIZE = 8\n",
    "# CROP_SIZE = (320, 480)\n",
    "LEARNING_RATE = 1e-4\n",
    "NUM_EPOCHS = 20\n",
    "    "
   ]
  },
  {
   "cell_type": "code",
   "execution_count": 4,
   "metadata": {},
   "outputs": [],
   "source": [
    "class DownBlock(nn.Module):\n",
    "    def __init__(self, in_dim, out_dim):\n",
    "        super(DownBlock, self).__init__()\n",
    "        self.block = nn.Sequential(\n",
    "            nn.MaxPool2d(kernel_size=2, stride=2),\n",
    "            nn.Conv2d(in_dim, out_dim, kernel_size=3, stride=1, padding=1),\n",
    "            nn.ReLU(),\n",
    "            nn.BatchNorm2d(out_dim),\n",
    "            nn.Conv2d(out_dim, out_dim, kernel_size=3, stride=1, padding=1),\n",
    "            nn.ReLU(),\n",
    "            nn.BatchNorm2d(out_dim))\n",
    "\n",
    "    def forward(self, x):\n",
    "        out = self.block(x)\n",
    "        return out\n",
    "\n",
    "\n",
    "\n",
    "class UpBlock(nn.Module):\n",
    "    def __init__(self, in_dim, mid_dim, out_dim):\n",
    "        super(UpBlock, self).__init__()\n",
    "        self.block = nn.Sequential(\n",
    "            nn.Conv2d(in_dim, mid_dim, kernel_size=3, stride=1, padding=1),\n",
    "            nn.ReLU(),\n",
    "            nn.BatchNorm2d(mid_dim),\n",
    "            nn.Conv2d(mid_dim, mid_dim, kernel_size=3, stride=1, padding=1),\n",
    "            nn.ReLU(),\n",
    "            nn.BatchNorm2d(mid_dim),\n",
    "            nn.ConvTranspose2d(mid_dim, out_dim, kernel_size=2, stride=2))\n",
    "\n",
    "    def forward(self, x):\n",
    "        out = self.block(x)\n",
    "        return out\n",
    "\n",
    "\n",
    "class UNet(nn.Module):\n",
    "    def __init__(self, num_classes, in_dim=3, conv_dim=64):\n",
    "        super(UNet, self).__init__()\n",
    "        self.num_classes = num_classes\n",
    "        self.in_dim = in_dim\n",
    "        self.conv_dim = conv_dim\n",
    "        self.build_unet()\n",
    "\n",
    "    def build_unet(self):\n",
    "        self.enc1 = nn.Sequential(\n",
    "            nn.Conv2d(self.in_dim, self.conv_dim, kernel_size=3, stride=1, padding=1),\n",
    "            nn.ReLU(),\n",
    "            nn.BatchNorm2d(self.conv_dim),\n",
    "            nn.Conv2d(self.conv_dim, self.conv_dim, kernel_size=3, stride=1, padding=1),\n",
    "            nn.ReLU(),\n",
    "            nn.BatchNorm2d(self.conv_dim))\n",
    "        self.enc2 = DownBlock(self.conv_dim, self.conv_dim*2)\n",
    "        self.enc3 = DownBlock(self.conv_dim*2, self.conv_dim*4)\n",
    "        self.enc4 = DownBlock(self.conv_dim*4, self.conv_dim*8)\n",
    "\n",
    "        self.dec1 = UpBlock(self.conv_dim*8, self.conv_dim*16, self.conv_dim*8)\n",
    "        self.dec2 = UpBlock(self.conv_dim*16, self.conv_dim*8, self.conv_dim*4)\n",
    "        self.dec3 = UpBlock(self.conv_dim*8, self.conv_dim*4, self.conv_dim*2)\n",
    "        self.dec4 = UpBlock(self.conv_dim*4, self.conv_dim*2, self.conv_dim)\n",
    "\n",
    "        self.last = nn.Sequential(\n",
    "            nn.Conv2d(self.conv_dim*2, self.conv_dim, kernel_size=3, stride=1, padding=1),\n",
    "            nn.ReLU(),\n",
    "            nn.BatchNorm2d(self.conv_dim),\n",
    "            nn.Conv2d(self.conv_dim, self.conv_dim, kernel_size=3, stride=1, padding=1),\n",
    "            nn.ReLU(),\n",
    "            nn.BatchNorm2d(self.conv_dim),\n",
    "            nn.Conv2d(self.conv_dim, self.num_classes, kernel_size=1, stride=1))\n",
    "\n",
    "    def forward(self, x):\n",
    "        enc1 = self.enc1(x) # 16\n",
    "        enc2 = self.enc2(enc1) # 8\n",
    "        enc3 = self.enc3(enc2) # 4\n",
    "        enc4 = self.enc4(enc3) # 2\n",
    "\n",
    "        center = nn.MaxPool2d(kernel_size=2, stride=2)(enc4)\n",
    "\n",
    "        dec1 = self.dec1(center) # 4\n",
    "        dec2 = self.dec2(torch.cat([enc4, dec1], dim=1))\n",
    "        dec3 = self.dec3(torch.cat([enc3, dec2], dim=1))\n",
    "        dec4 = self.dec4(torch.cat([enc2, dec3], dim=1))\n",
    "\n",
    "        last = self.last(torch.cat([enc1, dec4], dim=1))\n",
    "        assert x.size(-1) == last.size(-1), 'input size(W)-{} mismatches with output size(W)-{}' \\\n",
    "                                            .format(x.size(-1), last.size(-1))\n",
    "        assert x.size(-2) == last.size(-2), 'input size(H)-{} mismatches with output size(H)-{}' \\\n",
    "                                            .format(x.size(-1), last.size(-1))\n",
    "        return last"
   ]
  },
  {
   "cell_type": "code",
   "execution_count": 13,
   "metadata": {},
   "outputs": [],
   "source": [
    "class AverageMeter:\n",
    "    ''' Computes and stores the average and current value '''\n",
    "\n",
    "    def __init__(self) -> None:\n",
    "        self.reset()\n",
    "\n",
    "    def reset(self) -> None:\n",
    "        self.val = 0.0\n",
    "        self.avg = 0.0\n",
    "        self.sum = 0.0\n",
    "        self.count = 0\n",
    "\n",
    "    def update(self, val: float, n: int = 1) -> None:\n",
    "        self.val = val\n",
    "        self.sum += val * n\n",
    "        self.count += n\n",
    "        self.avg = self.sum / self.count\n",
    "\n",
    "\n",
    "def get_dataloader_workers():\n",
    "    \"\"\"Use 4 processes to read the data.\"\"\"\n",
    "    return 4\n",
    "\n",
    "\n",
    "def load_data_voc(batch_size, crop_size):\n",
    "    \"\"\"Load the VOC semantic segmentation dataset.\n",
    "\n",
    "    Defined in :numref:`sec_semantic_segmentation`\"\"\"\n",
    "    voc_dir = DATA_DIR\n",
    "    num_workers = get_dataloader_workers()\n",
    "    train_iter = DataLoader(\n",
    "        VOCSegDataset(True, crop_size, voc_dir), batch_size,\n",
    "        shuffle=True, drop_last=True, num_workers=num_workers,\n",
    "    )\n",
    "    test_iter = DataLoader(\n",
    "        VOCSegDataset(False, crop_size, voc_dir),\n",
    "        batch_size,\n",
    "        drop_last=True, num_workers=num_workers,\n",
    "    )\n",
    "    return train_iter, test_iter\n",
    "\n",
    "\n",
    "# def loss(inputs, targets):\n",
    "#     return F.cross_entropy(inputs, targets, reduction='none').mean(1).mean(1)\n",
    "\n",
    "reduce_sum = lambda x, *args, **kwargs: x.sum(*args, **kwargs)\n",
    "argmax = lambda x, *args, **kwargs: x.argmax(*args, **kwargs)\n",
    "astype = lambda x, *args, **kwargs: x.type(*args, **kwargs)\n",
    "\n",
    "\n",
    "def accuracy(y_hat, y):\n",
    "    \"\"\"Compute the number of correct predictions.[each pixel]\n",
    "\n",
    "    Defined in :numref:`sec_softmax_scratch`\"\"\"\n",
    "    if len(y_hat.shape) > 1 and y_hat.shape[1] > 1:\n",
    "        y_hat = argmax(y_hat, axis=1)\n",
    "    cmp = astype(y_hat, y.dtype) == y\n",
    "    size = 1\n",
    "    for s in cmp.shape:\n",
    "        size *= s\n",
    "    return float(cmp.sum()/size)\n",
    "\n",
    "\n",
    "\n",
    "def iou(pred, target, n_classes = 37):\n",
    "    #n_classes ：the number of classes in your dataset\n",
    "    ious = []\n",
    "    pred = pred.view(-1)\n",
    "    target = target.view(-1)\n",
    "\n",
    "    # Ignore IoU for background class (\"0\")\n",
    "    for cls in range(1, n_classes):  # This goes from 1:n_classes-1 -> class \"0\" is ignored\n",
    "        pred_inds = pred == cls\n",
    "        target_inds = target == cls\n",
    "        intersection = (pred_inds[target_inds]).long().sum().data.cpu()[0]  # Cast to long to prevent overflows\n",
    "        union = pred_inds.long().sum().data.cpu()[0] + target_inds.long().sum().data.cpu()[0] - intersection\n",
    "        if union == 0:\n",
    "            ious.append(float('nan'))  # If there is no ground truth, do not include in evaluation\n",
    "        else:\n",
    "            ious.append(float(intersection) / float(max(union, 1)))\n",
    "    return np.array(ious)\n"
   ]
  },
  {
   "cell_type": "code",
   "execution_count": null,
   "metadata": {},
   "outputs": [],
   "source": [
    "class Lits17LiverDataset(Dataset):\n",
    "    \"\"\"\n",
    "    A customized dataset to load the Lits dataset.\n",
    "    Liver Segmentation Label.\n",
    "    \"\"\"\n",
    "\n",
    "    def __init__(self, is_train, crop_size, voc_dir):\n",
    "        self.train_transform = tt.Compose([\n",
    "            \n",
    "            tt.ToTensor(),\n",
    "        ])\n",
    "        self.crop_size = crop_size\n",
    "        features, labels = self.read_voc_images(voc_dir, is_train=is_train)\n",
    "        self.features = [self.normalize_image(feature)\n",
    "                         for feature in self.filter(features)]\n",
    "        self.labels = self.filter(labels)\n",
    "        self.colormap2label = self.voc_colormap2label()\n",
    "        print('read ' + str(len(self.features)) + ' examples')\n",
    "\n",
    "    @classmethod\n",
    "    def normalize_image(cls, img):\n",
    "        return cls.normalize_transform(img.float() / 255)\n",
    "\n",
    "    def filter(self, imgs):\n",
    "        return [img for img in imgs if (\n",
    "            img.shape[1] >= self.crop_size[0] and\n",
    "            img.shape[2] >= self.crop_size[1])]\n",
    "\n",
    "    def __getitem__(self, idx):\n",
    "        feature, label = self.voc_rand_crop(self.features[idx], self.labels[idx],\n",
    "                                       *self.crop_size)\n",
    "        return (feature, self.voc_label_indices(label, self.colormap2label))\n",
    "\n",
    "    def __len__(self):\n",
    "        return len(self.features)"
   ]
  },
  {
   "cell_type": "code",
   "execution_count": 7,
   "metadata": {},
   "outputs": [
    {
     "name": "stdout",
     "output_type": "stream",
     "text": [
      "read 1114 examples\n",
      "read 1078 examples\n"
     ]
    }
   ],
   "source": [
    "train_iter, test_iter = load_data_voc(BATCH_SIZE, CROP_SIZE)\n",
    "train_dl = ToDeviceLoader(train_iter, device)\n",
    "test_dl = ToDeviceLoader(test_iter, device)"
   ]
  },
  {
   "cell_type": "code",
   "execution_count": 8,
   "metadata": {},
   "outputs": [],
   "source": [
    "model = UNet(num_classes=NUM_CLASSES)\n",
    "model = model.to(device)\n",
    "optimizer = torch.optim.Adam(model.parameters(), lr=LEARNING_RATE)\n",
    "criterion = torch.nn.CrossEntropyLoss()\n",
    "# lr_scheduler = torch.optim.lr_scheduler.CosineAnnealingLR(optimizer, LEARNING_RATE, eta_min=0)\n",
    "# lr_scheduler = torch.optim.lr_scheduler.ConstantLR(optimizer, LEARNING_RATE, total_iters=NUM_EPOCHS)\n",
    "lr_scheduler = torch.optim.lr_scheduler.OneCycleLR(optimizer=optimizer, max_lr=LEARNING_RATE, epochs=NUM_EPOCHS, steps_per_epoch=len(train_dl)+1)"
   ]
  },
  {
   "cell_type": "code",
   "execution_count": 9,
   "metadata": {},
   "outputs": [],
   "source": [
    "def train(train_iter, model, criterion, optimizer, epoch, total_epochs, lr_scheduler):\n",
    "    loss_metric = AverageMeter()\n",
    "    acc_metric = AverageMeter()\n",
    "    num_steps = len(train_iter)\n",
    "    lr_rate = lr_scheduler.get_last_lr()\n",
    "    pbar = tqdm(total=num_steps)\n",
    "    pbar.set_description(f\"[Train] EPOCH [{epoch}/{total_epochs}], lr=[{lr_rate}]:\")\n",
    "    for i, (x, y) in enumerate(train_iter):\n",
    "        batch_cnt = x.shape[0]\n",
    "        model.train()\n",
    "        optimizer.zero_grad()\n",
    "        pred = model(x)\n",
    "        l = criterion(pred, y)\n",
    "        l.sum().backward()\n",
    "        train_loss_sum = l.sum()\n",
    "        train_acc_sum = accuracy(pred, y)\n",
    "        optimizer.step()\n",
    "        lr_scheduler.step()\n",
    "        loss_metric.update(float(train_loss_sum), n=batch_cnt)\n",
    "        acc_metric.update(train_acc_sum, n=1)\n",
    "        pbar.update(1)\n",
    "        pbar.set_postfix(loss=loss_metric.avg, acc=acc_metric.avg)\n",
    "    return loss_metric.avg, acc_metric.avg\n",
    "\n",
    "\n",
    "def valid(test_iter, model, criterion, epoch, total_epochs):\n",
    "    loss_metric = AverageMeter()\n",
    "    acc_metric = AverageMeter()\n",
    "    num_steps = len(test_iter)\n",
    "    lr_rate = lr_scheduler.get_last_lr()\n",
    "    pbar = tqdm(total=num_steps)\n",
    "    pbar.set_description(f\"[Valid] EPOCH [{epoch}/{total_epochs}], lr=[{lr_rate}]:\")\n",
    "    for i, (x, y) in enumerate(test_iter):\n",
    "        batch_cnt = x.shape[0]\n",
    "        model.eval()\n",
    "        pred = model(x)\n",
    "        l = criterion(pred, y)\n",
    "        train_loss_sum = l.sum()\n",
    "        train_acc_sum = accuracy(pred, y)\n",
    "        loss_metric.update(float(train_loss_sum), n=batch_cnt)\n",
    "        acc_metric.update(train_acc_sum, n=1)\n",
    "        pbar.update(1)\n",
    "        pbar.set_postfix(loss=loss_metric.avg, acc=acc_metric.avg)\n",
    "    return loss_metric.avg, acc_metric.avg\n",
    "    "
   ]
  },
  {
   "cell_type": "code",
   "execution_count": 10,
   "metadata": {},
   "outputs": [
    {
     "name": "stdout",
     "output_type": "stream",
     "text": [
      "--------------------------------------------------\n"
     ]
    },
    {
     "name": "stderr",
     "output_type": "stream",
     "text": [
      "[Train] EPOCH [1/100], lr=[[4.000000000000002e-06]]:: 100%|██████████| 139/139 [00:34<00:00,  4.02it/s, acc=0.155, loss=3.14]\n",
      "[Valid] EPOCH [1/100], lr=[[4.2630741663332e-06]]:: 100%|██████████| 134/134 [00:14<00:00,  9.50it/s, acc=0.243, loss=3.12]\n"
     ]
    },
    {
     "name": "stdout",
     "output_type": "stream",
     "text": [
      "--------------------------------------------------\n"
     ]
    },
    {
     "name": "stderr",
     "output_type": "stream",
     "text": [
      "[Train] EPOCH [2/100], lr=[[4.2630741663332e-06]]:: 100%|██████████| 139/139 [00:34<00:00,  4.08it/s, acc=0.303, loss=3.02]\n",
      "[Valid] EPOCH [2/100], lr=[[5.049412997958137e-06]]:: 100%|██████████| 134/134 [00:14<00:00,  9.50it/s, acc=0.369, loss=3]   \n"
     ]
    },
    {
     "name": "stdout",
     "output_type": "stream",
     "text": [
      "--------------------------------------------------\n"
     ]
    },
    {
     "name": "stderr",
     "output_type": "stream",
     "text": [
      "[Train] EPOCH [3/100], lr=[[5.049412997958137e-06]]:: 100%|██████████| 139/139 [00:34<00:00,  4.08it/s, acc=0.42, loss=2.85] \n",
      "[Valid] EPOCH [3/100], lr=[[6.350397101850431e-06]]:: 100%|██████████| 134/134 [00:14<00:00,  9.46it/s, acc=0.469, loss=2.88]\n"
     ]
    },
    {
     "name": "stdout",
     "output_type": "stream",
     "text": [
      "--------------------------------------------------\n"
     ]
    },
    {
     "name": "stderr",
     "output_type": "stream",
     "text": [
      "[Train] EPOCH [4/100], lr=[[6.350397101850431e-06]]:: 100%|██████████| 139/139 [00:34<00:00,  4.08it/s, acc=0.504, loss=2.73]\n",
      "[Valid] EPOCH [4/100], lr=[[8.151765840154053e-06]]:: 100%|██████████| 134/134 [00:14<00:00,  9.48it/s, acc=0.537, loss=2.6] \n"
     ]
    },
    {
     "name": "stdout",
     "output_type": "stream",
     "text": [
      "--------------------------------------------------\n"
     ]
    },
    {
     "name": "stderr",
     "output_type": "stream",
     "text": [
      "[Train] EPOCH [5/100], lr=[[8.151765840154053e-06]]:: 100%|██████████| 139/139 [00:34<00:00,  4.09it/s, acc=0.554, loss=2.63]\n",
      "[Valid] EPOCH [5/100], lr=[[1.0433773647073704e-05]]:: 100%|██████████| 134/134 [00:14<00:00,  9.47it/s, acc=0.552, loss=2.72]\n"
     ]
    },
    {
     "name": "stdout",
     "output_type": "stream",
     "text": [
      "--------------------------------------------------\n"
     ]
    },
    {
     "name": "stderr",
     "output_type": "stream",
     "text": [
      "[Train] EPOCH [6/100], lr=[[1.0433773647073704e-05]]:: 100%|██████████| 139/139 [00:34<00:00,  4.08it/s, acc=0.582, loss=2.57]\n",
      "[Valid] EPOCH [6/100], lr=[[1.3171406468385561e-05]]:: 100%|██████████| 134/134 [00:14<00:00,  9.50it/s, acc=0.589, loss=2.67]\n"
     ]
    },
    {
     "name": "stdout",
     "output_type": "stream",
     "text": [
      "--------------------------------------------------\n"
     ]
    },
    {
     "name": "stderr",
     "output_type": "stream",
     "text": [
      "[Train] EPOCH [7/100], lr=[[1.3171406468385561e-05]]:: 100%|██████████| 139/139 [00:34<00:00,  4.09it/s, acc=0.603, loss=2.52]\n",
      "[Valid] EPOCH [7/100], lr=[[1.6334655951081602e-05]]:: 100%|██████████| 134/134 [00:14<00:00,  9.48it/s, acc=0.61, loss=2.43] \n"
     ]
    },
    {
     "name": "stdout",
     "output_type": "stream",
     "text": [
      "--------------------------------------------------\n"
     ]
    },
    {
     "name": "stderr",
     "output_type": "stream",
     "text": [
      "[Train] EPOCH [8/100], lr=[[1.6334655951081602e-05]]:: 100%|██████████| 139/139 [00:34<00:00,  4.08it/s, acc=0.62, loss=2.46] \n",
      "[Valid] EPOCH [8/100], lr=[[1.9888848377638292e-05]]:: 100%|██████████| 134/134 [00:14<00:00,  9.45it/s, acc=0.595, loss=2.82]\n"
     ]
    },
    {
     "name": "stdout",
     "output_type": "stream",
     "text": [
      "--------------------------------------------------\n"
     ]
    },
    {
     "name": "stderr",
     "output_type": "stream",
     "text": [
      "[Train] EPOCH [9/100], lr=[[1.9888848377638292e-05]]:: 100%|██████████| 139/139 [00:34<00:00,  4.08it/s, acc=0.637, loss=2.39]\n",
      "[Valid] EPOCH [9/100], lr=[[2.3795024739322148e-05]]:: 100%|██████████| 134/134 [00:14<00:00,  9.42it/s, acc=0.645, loss=2.39]\n"
     ]
    },
    {
     "name": "stdout",
     "output_type": "stream",
     "text": [
      "--------------------------------------------------\n"
     ]
    },
    {
     "name": "stderr",
     "output_type": "stream",
     "text": [
      "[Train] EPOCH [10/100], lr=[[2.3795024739322148e-05]]:: 100%|██████████| 139/139 [00:34<00:00,  4.08it/s, acc=0.654, loss=2.32]\n",
      "[Valid] EPOCH [10/100], lr=[[2.8010367782387306e-05]]:: 100%|██████████| 134/134 [00:14<00:00,  9.43it/s, acc=0.679, loss=2.16]\n"
     ]
    },
    {
     "name": "stdout",
     "output_type": "stream",
     "text": [
      "--------------------------------------------------\n"
     ]
    },
    {
     "name": "stderr",
     "output_type": "stream",
     "text": [
      "[Train] EPOCH [11/100], lr=[[2.8010367782387306e-05]]:: 100%|██████████| 139/139 [00:34<00:00,  4.07it/s, acc=0.665, loss=2.28]\n",
      "[Valid] EPOCH [11/100], lr=[[3.2488671346131144e-05]]:: 100%|██████████| 134/134 [00:14<00:00,  9.49it/s, acc=0.66, loss=2.46] \n"
     ]
    },
    {
     "name": "stdout",
     "output_type": "stream",
     "text": [
      "--------------------------------------------------\n"
     ]
    },
    {
     "name": "stderr",
     "output_type": "stream",
     "text": [
      "[Train] EPOCH [12/100], lr=[[3.2488671346131144e-05]]:: 100%|██████████| 139/139 [00:34<00:00,  4.08it/s, acc=0.676, loss=2.2] \n",
      "[Valid] EPOCH [12/100], lr=[[3.718084684819455e-05]]:: 100%|██████████| 134/134 [00:14<00:00,  9.46it/s, acc=0.64, loss=2.82] \n"
     ]
    },
    {
     "name": "stdout",
     "output_type": "stream",
     "text": [
      "--------------------------------------------------\n"
     ]
    },
    {
     "name": "stderr",
     "output_type": "stream",
     "text": [
      "[Train] EPOCH [13/100], lr=[[3.718084684819455e-05]]:: 100%|██████████| 139/139 [00:34<00:00,  4.07it/s, acc=0.686, loss=2.14]\n",
      "[Valid] EPOCH [13/100], lr=[[4.203546136530695e-05]]:: 100%|██████████| 134/134 [00:14<00:00,  9.44it/s, acc=0.623, loss=3.12]\n"
     ]
    },
    {
     "name": "stdout",
     "output_type": "stream",
     "text": [
      "--------------------------------------------------\n"
     ]
    },
    {
     "name": "stderr",
     "output_type": "stream",
     "text": [
      "[Train] EPOCH [14/100], lr=[[4.203546136530695e-05]]:: 100%|██████████| 139/139 [00:34<00:00,  4.08it/s, acc=0.693, loss=2.06]\n",
      "[Valid] EPOCH [14/100], lr=[[4.699930141134502e-05]]:: 100%|██████████| 134/134 [00:14<00:00,  9.46it/s, acc=0.698, loss=1.99]\n"
     ]
    },
    {
     "name": "stdout",
     "output_type": "stream",
     "text": [
      "--------------------------------------------------\n"
     ]
    },
    {
     "name": "stderr",
     "output_type": "stream",
     "text": [
      "[Train] EPOCH [15/100], lr=[[4.699930141134502e-05]]:: 100%|██████████| 139/139 [00:34<00:00,  4.08it/s, acc=0.699, loss=1.97]\n",
      "[Valid] EPOCH [15/100], lr=[[5.201795623289535e-05]]:: 100%|██████████| 134/134 [00:14<00:00,  9.43it/s, acc=0.721, loss=1.71]\n"
     ]
    },
    {
     "name": "stdout",
     "output_type": "stream",
     "text": [
      "--------------------------------------------------\n"
     ]
    },
    {
     "name": "stderr",
     "output_type": "stream",
     "text": [
      "[Train] EPOCH [16/100], lr=[[5.201795623289535e-05]]:: 100%|██████████| 139/139 [00:34<00:00,  4.08it/s, acc=0.703, loss=1.89]\n",
      "[Valid] EPOCH [16/100], lr=[[5.703641422857072e-05]]:: 100%|██████████| 134/134 [00:14<00:00,  9.39it/s, acc=0.684, loss=2.23]\n"
     ]
    },
    {
     "name": "stdout",
     "output_type": "stream",
     "text": [
      "--------------------------------------------------\n"
     ]
    },
    {
     "name": "stderr",
     "output_type": "stream",
     "text": [
      "[Train] EPOCH [17/100], lr=[[5.703641422857072e-05]]:: 100%|██████████| 139/139 [00:34<00:00,  4.07it/s, acc=0.707, loss=1.84]\n",
      "[Valid] EPOCH [17/100], lr=[[6.199966595447566e-05]]:: 100%|██████████| 134/134 [00:14<00:00,  9.47it/s, acc=0.703, loss=2.08]\n"
     ]
    },
    {
     "name": "stdout",
     "output_type": "stream",
     "text": [
      "--------------------------------------------------\n"
     ]
    },
    {
     "name": "stderr",
     "output_type": "stream",
     "text": [
      "[Train] EPOCH [18/100], lr=[[6.199966595447566e-05]]:: 100%|██████████| 139/139 [00:34<00:00,  4.08it/s, acc=0.713, loss=1.74]\n",
      "[Valid] EPOCH [18/100], lr=[[6.685330710602292e-05]]:: 100%|██████████| 134/134 [00:14<00:00,  9.44it/s, acc=0.702, loss=1.96]\n"
     ]
    },
    {
     "name": "stdout",
     "output_type": "stream",
     "text": [
      "--------------------------------------------------\n"
     ]
    },
    {
     "name": "stderr",
     "output_type": "stream",
     "text": [
      "[Train] EPOCH [19/100], lr=[[6.685330710602292e-05]]:: 100%|██████████| 139/139 [00:34<00:00,  4.07it/s, acc=0.713, loss=1.69]\n",
      "[Valid] EPOCH [19/100], lr=[[7.154413486656153e-05]]:: 100%|██████████| 134/134 [00:14<00:00,  9.46it/s, acc=0.695, loss=2.21]\n"
     ]
    },
    {
     "name": "stdout",
     "output_type": "stream",
     "text": [
      "--------------------------------------------------\n"
     ]
    },
    {
     "name": "stderr",
     "output_type": "stream",
     "text": [
      "[Train] EPOCH [20/100], lr=[[7.154413486656153e-05]]:: 100%|██████████| 139/139 [00:34<00:00,  4.07it/s, acc=0.718, loss=1.61]\n",
      "[Valid] EPOCH [20/100], lr=[[7.602073108598662e-05]]:: 100%|██████████| 134/134 [00:14<00:00,  9.45it/s, acc=0.721, loss=1.47]\n"
     ]
    },
    {
     "name": "stdout",
     "output_type": "stream",
     "text": [
      "--------------------------------------------------\n"
     ]
    },
    {
     "name": "stderr",
     "output_type": "stream",
     "text": [
      "[Train] EPOCH [21/100], lr=[[7.602073108598662e-05]]:: 100%|██████████| 139/139 [00:34<00:00,  4.07it/s, acc=0.718, loss=1.59]\n",
      "[Valid] EPOCH [21/100], lr=[[8.02340258968634e-05]]:: 100%|██████████| 134/134 [00:14<00:00,  9.45it/s, acc=0.724, loss=1.56]\n"
     ]
    },
    {
     "name": "stdout",
     "output_type": "stream",
     "text": [
      "--------------------------------------------------\n"
     ]
    },
    {
     "name": "stderr",
     "output_type": "stream",
     "text": [
      "[Train] EPOCH [22/100], lr=[[8.02340258968634e-05]]:: 100%|██████████| 139/139 [00:34<00:00,  4.07it/s, acc=0.723, loss=1.51]\n",
      "[Valid] EPOCH [22/100], lr=[[8.413783559002984e-05]]:: 100%|██████████| 134/134 [00:14<00:00,  9.45it/s, acc=0.721, loss=1.78]\n"
     ]
    },
    {
     "name": "stdout",
     "output_type": "stream",
     "text": [
      "--------------------------------------------------\n"
     ]
    },
    {
     "name": "stderr",
     "output_type": "stream",
     "text": [
      "[Train] EPOCH [23/100], lr=[[8.413783559002984e-05]]:: 100%|██████████| 139/139 [00:34<00:00,  4.07it/s, acc=0.726, loss=1.43]\n",
      "[Valid] EPOCH [23/100], lr=[[8.768936885379628e-05]]:: 100%|██████████| 134/134 [00:14<00:00,  9.43it/s, acc=0.714, loss=1.88]\n"
     ]
    },
    {
     "name": "stdout",
     "output_type": "stream",
     "text": [
      "--------------------------------------------------\n"
     ]
    },
    {
     "name": "stderr",
     "output_type": "stream",
     "text": [
      "[Train] EPOCH [24/100], lr=[[8.768936885379628e-05]]:: 100%|██████████| 139/139 [00:34<00:00,  4.07it/s, acc=0.729, loss=1.37]\n",
      "[Valid] EPOCH [24/100], lr=[[9.084969582763895e-05]]:: 100%|██████████| 134/134 [00:14<00:00,  9.44it/s, acc=0.715, loss=1.94]\n"
     ]
    },
    {
     "name": "stdout",
     "output_type": "stream",
     "text": [
      "--------------------------------------------------\n"
     ]
    },
    {
     "name": "stderr",
     "output_type": "stream",
     "text": [
      "[Train] EPOCH [25/100], lr=[[9.084969582763895e-05]]:: 100%|██████████| 139/139 [00:34<00:00,  4.07it/s, acc=0.729, loss=1.34]\n",
      "[Valid] EPOCH [25/100], lr=[[9.358417482889186e-05]]:: 100%|██████████| 134/134 [00:14<00:00,  9.44it/s, acc=0.729, loss=1.45]\n"
     ]
    },
    {
     "name": "stdout",
     "output_type": "stream",
     "text": [
      "--------------------------------------------------\n"
     ]
    },
    {
     "name": "stderr",
     "output_type": "stream",
     "text": [
      "[Train] EPOCH [26/100], lr=[[9.358417482889186e-05]]:: 100%|██████████| 139/139 [00:34<00:00,  4.08it/s, acc=0.728, loss=1.34]\n",
      "[Valid] EPOCH [26/100], lr=[[9.586283207490455e-05]]:: 100%|██████████| 134/134 [00:14<00:00,  9.39it/s, acc=0.73, loss=1.37] \n"
     ]
    },
    {
     "name": "stdout",
     "output_type": "stream",
     "text": [
      "--------------------------------------------------\n"
     ]
    },
    {
     "name": "stderr",
     "output_type": "stream",
     "text": [
      "[Train] EPOCH [27/100], lr=[[9.586283207490455e-05]]:: 100%|██████████| 139/139 [00:34<00:00,  4.07it/s, acc=0.732, loss=1.26]\n",
      "[Valid] EPOCH [27/100], lr=[[9.766069023837065e-05]]:: 100%|██████████| 134/134 [00:14<00:00,  9.43it/s, acc=0.717, loss=1.6] \n"
     ]
    },
    {
     "name": "stdout",
     "output_type": "stream",
     "text": [
      "--------------------------------------------------\n"
     ]
    },
    {
     "name": "stderr",
     "output_type": "stream",
     "text": [
      "[Train] EPOCH [28/100], lr=[[9.766069023837065e-05]]:: 100%|██████████| 139/139 [00:34<00:00,  4.07it/s, acc=0.733, loss=1.23]\n",
      "[Valid] EPOCH [28/100], lr=[[9.895804223439267e-05]]:: 100%|██████████| 134/134 [00:14<00:00,  9.44it/s, acc=0.734, loss=1.26]\n"
     ]
    },
    {
     "name": "stdout",
     "output_type": "stream",
     "text": [
      "--------------------------------------------------\n"
     ]
    },
    {
     "name": "stderr",
     "output_type": "stream",
     "text": [
      "[Train] EPOCH [29/100], lr=[[9.895804223439267e-05]]:: 100%|██████████| 139/139 [00:34<00:00,  4.07it/s, acc=0.735, loss=1.18]\n",
      "[Valid] EPOCH [29/100], lr=[[9.974066723818753e-05]]:: 100%|██████████| 134/134 [00:14<00:00,  9.46it/s, acc=0.731, loss=1.46]\n"
     ]
    },
    {
     "name": "stdout",
     "output_type": "stream",
     "text": [
      "--------------------------------------------------\n"
     ]
    },
    {
     "name": "stderr",
     "output_type": "stream",
     "text": [
      "[Train] EPOCH [30/100], lr=[[9.974066723818753e-05]]:: 100%|██████████| 139/139 [00:34<00:00,  4.07it/s, acc=0.735, loss=1.17]\n",
      "[Valid] EPOCH [30/100], lr=[[9.999999743087128e-05]]:: 100%|██████████| 134/134 [00:14<00:00,  9.44it/s, acc=0.715, loss=1.81]\n"
     ]
    },
    {
     "name": "stdout",
     "output_type": "stream",
     "text": [
      "--------------------------------------------------\n"
     ]
    },
    {
     "name": "stderr",
     "output_type": "stream",
     "text": [
      "[Train] EPOCH [31/100], lr=[[9.999999743087128e-05]]:: 100%|██████████| 139/139 [00:34<00:00,  4.08it/s, acc=0.735, loss=1.15]\n",
      "[Valid] EPOCH [31/100], lr=[[9.994893184734316e-05]]:: 100%|██████████| 134/134 [00:14<00:00,  9.41it/s, acc=0.736, loss=1.27]\n"
     ]
    },
    {
     "name": "stdout",
     "output_type": "stream",
     "text": [
      "--------------------------------------------------\n"
     ]
    },
    {
     "name": "stderr",
     "output_type": "stream",
     "text": [
      "[Train] EPOCH [32/100], lr=[[9.994893184734316e-05]]:: 100%|██████████| 139/139 [00:34<00:00,  4.07it/s, acc=0.742, loss=1.08]\n",
      "[Valid] EPOCH [32/100], lr=[[9.979727616518303e-05]]:: 100%|██████████| 134/134 [00:14<00:00,  9.43it/s, acc=0.73, loss=1.27] \n"
     ]
    },
    {
     "name": "stdout",
     "output_type": "stream",
     "text": [
      "--------------------------------------------------\n"
     ]
    },
    {
     "name": "stderr",
     "output_type": "stream",
     "text": [
      "[Train] EPOCH [33/100], lr=[[9.979727616518303e-05]]:: 100%|██████████| 139/139 [00:34<00:00,  4.07it/s, acc=0.741, loss=1.08]\n",
      "[Valid] EPOCH [33/100], lr=[[9.954533579875206e-05]]:: 100%|██████████| 134/134 [00:14<00:00,  9.41it/s, acc=0.739, loss=1.12]\n"
     ]
    },
    {
     "name": "stdout",
     "output_type": "stream",
     "text": [
      "--------------------------------------------------\n"
     ]
    },
    {
     "name": "stderr",
     "output_type": "stream",
     "text": [
      "[Train] EPOCH [34/100], lr=[[9.954533579875206e-05]]:: 100%|██████████| 139/139 [00:34<00:00,  4.07it/s, acc=0.741, loss=1.07]\n",
      "[Valid] EPOCH [34/100], lr=[[9.919361812241932e-05]]:: 100%|██████████| 134/134 [00:14<00:00,  9.44it/s, acc=0.726, loss=1.18]\n"
     ]
    },
    {
     "name": "stdout",
     "output_type": "stream",
     "text": [
      "--------------------------------------------------\n"
     ]
    },
    {
     "name": "stderr",
     "output_type": "stream",
     "text": [
      "[Train] EPOCH [35/100], lr=[[9.919361812241932e-05]]:: 100%|██████████| 139/139 [00:34<00:00,  4.07it/s, acc=0.741, loss=1.07]\n",
      "[Valid] EPOCH [35/100], lr=[[9.874283144877747e-05]]:: 100%|██████████| 134/134 [00:14<00:00,  9.44it/s, acc=0.736, loss=1.36]\n"
     ]
    },
    {
     "name": "stdout",
     "output_type": "stream",
     "text": [
      "--------------------------------------------------\n"
     ]
    },
    {
     "name": "stderr",
     "output_type": "stream",
     "text": [
      "[Train] EPOCH [36/100], lr=[[9.874283144877747e-05]]:: 100%|██████████| 139/139 [00:34<00:00,  4.07it/s, acc=0.741, loss=1.07]\n",
      "[Valid] EPOCH [36/100], lr=[[9.819388360219535e-05]]:: 100%|██████████| 134/134 [00:14<00:00,  9.39it/s, acc=0.742, loss=1.08]\n"
     ]
    },
    {
     "name": "stdout",
     "output_type": "stream",
     "text": [
      "--------------------------------------------------\n"
     ]
    },
    {
     "name": "stderr",
     "output_type": "stream",
     "text": [
      "[Train] EPOCH [37/100], lr=[[9.819388360219535e-05]]:: 100%|██████████| 139/139 [00:34<00:00,  4.06it/s, acc=0.741, loss=1.07]\n",
      "[Valid] EPOCH [37/100], lr=[[9.754788009058052e-05]]:: 100%|██████████| 134/134 [00:14<00:00,  9.43it/s, acc=0.725, loss=1.22]\n"
     ]
    },
    {
     "name": "stdout",
     "output_type": "stream",
     "text": [
      "--------------------------------------------------\n"
     ]
    },
    {
     "name": "stderr",
     "output_type": "stream",
     "text": [
      "[Train] EPOCH [38/100], lr=[[9.754788009058052e-05]]:: 100%|██████████| 139/139 [00:34<00:00,  4.07it/s, acc=0.742, loss=1.05]\n",
      "[Valid] EPOCH [38/100], lr=[[9.680612187903354e-05]]:: 100%|██████████| 134/134 [00:14<00:00,  9.41it/s, acc=0.736, loss=1.07]\n"
     ]
    },
    {
     "name": "stdout",
     "output_type": "stream",
     "text": [
      "--------------------------------------------------\n"
     ]
    },
    {
     "name": "stderr",
     "output_type": "stream",
     "text": [
      "[Train] EPOCH [39/100], lr=[[9.680612187903354e-05]]:: 100%|██████████| 139/139 [00:34<00:00,  4.07it/s, acc=0.747, loss=0.998]\n",
      "[Valid] EPOCH [39/100], lr=[[9.597010276987734e-05]]:: 100%|██████████| 134/134 [00:14<00:00,  9.40it/s, acc=0.741, loss=1.1] \n"
     ]
    },
    {
     "name": "stdout",
     "output_type": "stream",
     "text": [
      "--------------------------------------------------\n"
     ]
    },
    {
     "name": "stderr",
     "output_type": "stream",
     "text": [
      "[Train] EPOCH [40/100], lr=[[9.597010276987734e-05]]:: 100%|██████████| 139/139 [00:36<00:00,  3.76it/s, acc=0.747, loss=0.989]\n",
      "[Valid] EPOCH [40/100], lr=[[9.504150639433815e-05]]:: 100%|██████████| 134/134 [00:14<00:00,  9.41it/s, acc=0.736, loss=1.1] \n"
     ]
    },
    {
     "name": "stdout",
     "output_type": "stream",
     "text": [
      "--------------------------------------------------\n"
     ]
    },
    {
     "name": "stderr",
     "output_type": "stream",
     "text": [
      "[Train] EPOCH [41/100], lr=[[9.504150639433815e-05]]:: 100%|██████████| 139/139 [00:34<00:00,  4.07it/s, acc=0.752, loss=0.963]\n",
      "[Valid] EPOCH [41/100], lr=[[9.402220282193624e-05]]:: 100%|██████████| 134/134 [00:14<00:00,  9.45it/s, acc=0.742, loss=1.1] \n"
     ]
    },
    {
     "name": "stdout",
     "output_type": "stream",
     "text": [
      "--------------------------------------------------\n"
     ]
    },
    {
     "name": "stderr",
     "output_type": "stream",
     "text": [
      "[Train] EPOCH [42/100], lr=[[9.402220282193624e-05]]:: 100%|██████████| 139/139 [00:34<00:00,  4.07it/s, acc=0.752, loss=0.954]\n",
      "[Valid] EPOCH [42/100], lr=[[9.291424479441481e-05]]:: 100%|██████████| 134/134 [00:14<00:00,  9.40it/s, acc=0.741, loss=1.06]\n"
     ]
    },
    {
     "name": "stdout",
     "output_type": "stream",
     "text": [
      "--------------------------------------------------\n"
     ]
    },
    {
     "name": "stderr",
     "output_type": "stream",
     "text": [
      "[Train] EPOCH [43/100], lr=[[9.291424479441481e-05]]:: 100%|██████████| 139/139 [00:34<00:00,  4.07it/s, acc=0.753, loss=0.946]\n",
      "[Valid] EPOCH [43/100], lr=[[9.171986359179137e-05]]:: 100%|██████████| 134/134 [00:14<00:00,  9.41it/s, acc=0.739, loss=1.02]\n"
     ]
    },
    {
     "name": "stdout",
     "output_type": "stream",
     "text": [
      "--------------------------------------------------\n"
     ]
    },
    {
     "name": "stderr",
     "output_type": "stream",
     "text": [
      "[Train] EPOCH [44/100], lr=[[9.171986359179137e-05]]:: 100%|██████████| 139/139 [00:34<00:00,  4.05it/s, acc=0.756, loss=0.928]\n",
      "[Valid] EPOCH [44/100], lr=[[9.044146453885657e-05]]:: 100%|██████████| 134/134 [00:14<00:00,  9.44it/s, acc=0.734, loss=1.09]\n"
     ]
    },
    {
     "name": "stdout",
     "output_type": "stream",
     "text": [
      "--------------------------------------------------\n"
     ]
    },
    {
     "name": "stderr",
     "output_type": "stream",
     "text": [
      "[Train] EPOCH [45/100], lr=[[9.044146453885657e-05]]:: 100%|██████████| 139/139 [00:34<00:00,  4.01it/s, acc=0.756, loss=0.923]\n",
      "[Valid] EPOCH [45/100], lr=[[8.908162216117034e-05]]:: 100%|██████████| 134/134 [00:14<00:00,  9.40it/s, acc=0.74, loss=1.03] \n"
     ]
    },
    {
     "name": "stdout",
     "output_type": "stream",
     "text": [
      "--------------------------------------------------\n"
     ]
    },
    {
     "name": "stderr",
     "output_type": "stream",
     "text": [
      "[Train] EPOCH [46/100], lr=[[8.908162216117034e-05]]:: 100%|██████████| 139/139 [00:34<00:00,  4.07it/s, acc=0.756, loss=0.919]\n",
      "[Valid] EPOCH [46/100], lr=[[8.764307500030993e-05]]:: 100%|██████████| 134/134 [00:14<00:00,  9.42it/s, acc=0.744, loss=0.996]\n"
     ]
    },
    {
     "name": "stdout",
     "output_type": "stream",
     "text": [
      "--------------------------------------------------\n"
     ]
    },
    {
     "name": "stderr",
     "output_type": "stream",
     "text": [
      "[Train] EPOCH [47/100], lr=[[8.764307500030993e-05]]:: 100%|██████████| 139/139 [00:34<00:00,  4.07it/s, acc=0.758, loss=0.911]\n",
      "[Valid] EPOCH [47/100], lr=[[8.612872009881167e-05]]:: 100%|██████████| 134/134 [00:14<00:00,  9.40it/s, acc=0.739, loss=1.02] \n"
     ]
    },
    {
     "name": "stdout",
     "output_type": "stream",
     "text": [
      "--------------------------------------------------\n"
     ]
    },
    {
     "name": "stderr",
     "output_type": "stream",
     "text": [
      "[Train] EPOCH [48/100], lr=[[8.612872009881167e-05]]:: 100%|██████████| 139/139 [00:34<00:00,  4.07it/s, acc=0.763, loss=0.876]\n",
      "[Valid] EPOCH [48/100], lr=[[8.454160716591286e-05]]:: 100%|██████████| 134/134 [00:14<00:00,  9.43it/s, acc=0.738, loss=1.02] \n"
     ]
    },
    {
     "name": "stdout",
     "output_type": "stream",
     "text": [
      "--------------------------------------------------\n"
     ]
    },
    {
     "name": "stderr",
     "output_type": "stream",
     "text": [
      "[Train] EPOCH [49/100], lr=[[8.454160716591286e-05]]:: 100%|██████████| 139/139 [00:34<00:00,  4.07it/s, acc=0.765, loss=0.854]\n",
      "[Valid] EPOCH [49/100], lr=[[8.288493243584319e-05]]:: 100%|██████████| 134/134 [00:14<00:00,  9.40it/s, acc=0.738, loss=1.03]\n"
     ]
    },
    {
     "name": "stdout",
     "output_type": "stream",
     "text": [
      "--------------------------------------------------\n"
     ]
    },
    {
     "name": "stderr",
     "output_type": "stream",
     "text": [
      "[Train] EPOCH [50/100], lr=[[8.288493243584319e-05]]:: 100%|██████████| 139/139 [00:34<00:00,  4.07it/s, acc=0.766, loss=0.856]\n",
      "[Valid] EPOCH [50/100], lr=[[8.116203223103436e-05]]:: 100%|██████████| 134/134 [00:14<00:00,  9.42it/s, acc=0.731, loss=1.07]\n"
     ]
    },
    {
     "name": "stdout",
     "output_type": "stream",
     "text": [
      "--------------------------------------------------\n"
     ]
    },
    {
     "name": "stderr",
     "output_type": "stream",
     "text": [
      "[Train] EPOCH [51/100], lr=[[8.116203223103436e-05]]:: 100%|██████████| 139/139 [00:34<00:00,  4.07it/s, acc=0.767, loss=0.841]\n",
      "[Valid] EPOCH [51/100], lr=[[7.937637624321082e-05]]:: 100%|██████████| 134/134 [00:14<00:00,  9.40it/s, acc=0.748, loss=1]    \n"
     ]
    },
    {
     "name": "stdout",
     "output_type": "stream",
     "text": [
      "--------------------------------------------------\n"
     ]
    },
    {
     "name": "stderr",
     "output_type": "stream",
     "text": [
      "[Train] EPOCH [52/100], lr=[[7.937637624321082e-05]]:: 100%|██████████| 139/139 [00:34<00:00,  4.06it/s, acc=0.772, loss=0.816]\n",
      "[Valid] EPOCH [52/100], lr=[[7.753156054589221e-05]]:: 100%|██████████| 134/134 [00:14<00:00,  9.47it/s, acc=0.747, loss=1.02] \n"
     ]
    },
    {
     "name": "stdout",
     "output_type": "stream",
     "text": [
      "--------------------------------------------------\n"
     ]
    },
    {
     "name": "stderr",
     "output_type": "stream",
     "text": [
      "[Train] EPOCH [53/100], lr=[[7.753156054589221e-05]]:: 100%|██████████| 139/139 [00:34<00:00,  4.07it/s, acc=0.777, loss=0.803]\n",
      "[Valid] EPOCH [53/100], lr=[[7.563130035238003e-05]]:: 100%|██████████| 134/134 [00:14<00:00,  9.42it/s, acc=0.74, loss=1.04] \n"
     ]
    },
    {
     "name": "stdout",
     "output_type": "stream",
     "text": [
      "--------------------------------------------------\n"
     ]
    },
    {
     "name": "stderr",
     "output_type": "stream",
     "text": [
      "[Train] EPOCH [54/100], lr=[[7.563130035238003e-05]]:: 100%|██████████| 139/139 [00:34<00:00,  4.07it/s, acc=0.78, loss=0.774] \n",
      "[Valid] EPOCH [54/100], lr=[[7.367942253381239e-05]]:: 100%|██████████| 134/134 [00:14<00:00,  9.42it/s, acc=0.744, loss=1.06]\n"
     ]
    },
    {
     "name": "stdout",
     "output_type": "stream",
     "text": [
      "--------------------------------------------------\n"
     ]
    },
    {
     "name": "stderr",
     "output_type": "stream",
     "text": [
      "[Train] EPOCH [55/100], lr=[[7.367942253381239e-05]]:: 100%|██████████| 139/139 [00:34<00:00,  4.07it/s, acc=0.781, loss=0.778]\n",
      "[Valid] EPOCH [55/100], lr=[[7.167985791235483e-05]]:: 100%|██████████| 134/134 [00:14<00:00,  9.40it/s, acc=0.741, loss=1.03]\n"
     ]
    },
    {
     "name": "stdout",
     "output_type": "stream",
     "text": [
      "--------------------------------------------------\n"
     ]
    },
    {
     "name": "stderr",
     "output_type": "stream",
     "text": [
      "[Train] EPOCH [56/100], lr=[[7.167985791235483e-05]]:: 100%|██████████| 139/139 [00:34<00:00,  4.06it/s, acc=0.782, loss=0.773]\n",
      "[Valid] EPOCH [56/100], lr=[[6.963663334504768e-05]]:: 100%|██████████| 134/134 [00:14<00:00,  9.41it/s, acc=0.74, loss=1.06] \n"
     ]
    },
    {
     "name": "stdout",
     "output_type": "stream",
     "text": [
      "--------------------------------------------------\n"
     ]
    },
    {
     "name": "stderr",
     "output_type": "stream",
     "text": [
      "[Train] EPOCH [57/100], lr=[[6.963663334504768e-05]]:: 100%|██████████| 139/139 [00:34<00:00,  4.07it/s, acc=0.787, loss=0.745]\n",
      "[Valid] EPOCH [57/100], lr=[[6.755386361425179e-05]]:: 100%|██████████| 134/134 [00:14<00:00,  9.40it/s, acc=0.744, loss=1.02] \n"
     ]
    },
    {
     "name": "stdout",
     "output_type": "stream",
     "text": [
      "--------------------------------------------------\n"
     ]
    },
    {
     "name": "stderr",
     "output_type": "stream",
     "text": [
      "[Train] EPOCH [58/100], lr=[[6.755386361425179e-05]]:: 100%|██████████| 139/139 [00:34<00:00,  4.06it/s, acc=0.792, loss=0.713]\n",
      "[Valid] EPOCH [58/100], lr=[[6.543574314102449e-05]]:: 100%|██████████| 134/134 [00:14<00:00,  9.40it/s, acc=0.742, loss=1.01] \n"
     ]
    },
    {
     "name": "stdout",
     "output_type": "stream",
     "text": [
      "--------------------------------------------------\n"
     ]
    },
    {
     "name": "stderr",
     "output_type": "stream",
     "text": [
      "[Train] EPOCH [59/100], lr=[[6.543574314102449e-05]]:: 100%|██████████| 139/139 [00:34<00:00,  4.06it/s, acc=0.799, loss=0.693]\n",
      "[Valid] EPOCH [59/100], lr=[[6.328653753811384e-05]]:: 100%|██████████| 134/134 [00:14<00:00,  9.38it/s, acc=0.736, loss=1.07]\n"
     ]
    },
    {
     "name": "stdout",
     "output_type": "stream",
     "text": [
      "--------------------------------------------------\n"
     ]
    },
    {
     "name": "stderr",
     "output_type": "stream",
     "text": [
      "[Train] EPOCH [60/100], lr=[[6.328653753811384e-05]]:: 100%|██████████| 139/139 [00:34<00:00,  4.06it/s, acc=0.8, loss=0.684]  \n",
      "[Valid] EPOCH [60/100], lr=[[6.111057501958215e-05]]:: 100%|██████████| 134/134 [00:14<00:00,  9.38it/s, acc=0.732, loss=1.08]\n"
     ]
    },
    {
     "name": "stdout",
     "output_type": "stream",
     "text": [
      "--------------------------------------------------\n"
     ]
    },
    {
     "name": "stderr",
     "output_type": "stream",
     "text": [
      "[Train] EPOCH [61/100], lr=[[6.111057501958215e-05]]:: 100%|██████████| 139/139 [00:34<00:00,  4.07it/s, acc=0.809, loss=0.647]\n",
      "[Valid] EPOCH [61/100], lr=[[5.8912237684358944e-05]]:: 100%|██████████| 134/134 [00:14<00:00,  9.39it/s, acc=0.741, loss=1.02]\n"
     ]
    },
    {
     "name": "stdout",
     "output_type": "stream",
     "text": [
      "--------------------------------------------------\n"
     ]
    },
    {
     "name": "stderr",
     "output_type": "stream",
     "text": [
      "[Train] EPOCH [62/100], lr=[[5.8912237684358944e-05]]:: 100%|██████████| 139/139 [00:34<00:00,  4.06it/s, acc=0.811, loss=0.64] \n",
      "[Valid] EPOCH [62/100], lr=[[5.669595269127685e-05]]:: 100%|██████████| 134/134 [00:14<00:00,  9.40it/s, acc=0.741, loss=1.05]\n"
     ]
    },
    {
     "name": "stdout",
     "output_type": "stream",
     "text": [
      "--------------------------------------------------\n"
     ]
    },
    {
     "name": "stderr",
     "output_type": "stream",
     "text": [
      "[Train] EPOCH [63/100], lr=[[5.669595269127685e-05]]:: 100%|██████████| 139/139 [00:34<00:00,  4.05it/s, acc=0.817, loss=0.611]\n",
      "[Valid] EPOCH [63/100], lr=[[5.44661833433629e-05]]:: 100%|██████████| 134/134 [00:14<00:00,  9.36it/s, acc=0.742, loss=1.04]\n"
     ]
    },
    {
     "name": "stdout",
     "output_type": "stream",
     "text": [
      "--------------------------------------------------\n"
     ]
    },
    {
     "name": "stderr",
     "output_type": "stream",
     "text": [
      "[Train] EPOCH [64/100], lr=[[5.44661833433629e-05]]:: 100%|██████████| 139/139 [00:34<00:00,  4.06it/s, acc=0.823, loss=0.59] \n",
      "[Valid] EPOCH [64/100], lr=[[5.222742009934023e-05]]:: 100%|██████████| 134/134 [00:14<00:00,  9.41it/s, acc=0.736, loss=1.08]\n"
     ]
    },
    {
     "name": "stdout",
     "output_type": "stream",
     "text": [
      "--------------------------------------------------\n"
     ]
    },
    {
     "name": "stderr",
     "output_type": "stream",
     "text": [
      "[Train] EPOCH [65/100], lr=[[5.222742009934023e-05]]:: 100%|██████████| 139/139 [00:34<00:00,  4.05it/s, acc=0.828, loss=0.562]\n",
      "[Valid] EPOCH [65/100], lr=[[4.9984171530441795e-05]]:: 100%|██████████| 134/134 [00:14<00:00,  9.40it/s, acc=0.746, loss=1.01] \n"
     ]
    },
    {
     "name": "stdout",
     "output_type": "stream",
     "text": [
      "--------------------------------------------------\n"
     ]
    },
    {
     "name": "stderr",
     "output_type": "stream",
     "text": [
      "[Train] EPOCH [66/100], lr=[[4.9984171530441795e-05]]:: 100%|██████████| 139/139 [00:34<00:00,  4.06it/s, acc=0.833, loss=0.554]\n",
      "[Valid] EPOCH [66/100], lr=[[4.774095524074792e-05]]:: 100%|██████████| 134/134 [00:14<00:00,  9.37it/s, acc=0.738, loss=1.02] \n"
     ]
    },
    {
     "name": "stdout",
     "output_type": "stream",
     "text": [
      "--------------------------------------------------\n"
     ]
    },
    {
     "name": "stderr",
     "output_type": "stream",
     "text": [
      "[Train] EPOCH [67/100], lr=[[4.774095524074792e-05]]:: 100%|██████████| 139/139 [00:34<00:00,  4.06it/s, acc=0.839, loss=0.518]\n",
      "[Valid] EPOCH [67/100], lr=[[4.550228876933297e-05]]:: 100%|██████████| 134/134 [00:14<00:00,  9.41it/s, acc=0.739, loss=1.09]\n"
     ]
    },
    {
     "name": "stdout",
     "output_type": "stream",
     "text": [
      "--------------------------------------------------\n"
     ]
    },
    {
     "name": "stderr",
     "output_type": "stream",
     "text": [
      "[Train] EPOCH [68/100], lr=[[4.550228876933297e-05]]:: 100%|██████████| 139/139 [00:34<00:00,  4.05it/s, acc=0.846, loss=0.5]  \n",
      "[Valid] EPOCH [68/100], lr=[[4.327268049254271e-05]]:: 100%|██████████| 134/134 [00:14<00:00,  9.37it/s, acc=0.741, loss=1.04]\n"
     ]
    },
    {
     "name": "stdout",
     "output_type": "stream",
     "text": [
      "--------------------------------------------------\n"
     ]
    },
    {
     "name": "stderr",
     "output_type": "stream",
     "text": [
      "[Train] EPOCH [69/100], lr=[[4.327268049254271e-05]]:: 100%|██████████| 139/139 [00:34<00:00,  4.06it/s, acc=0.846, loss=0.491]\n",
      "[Valid] EPOCH [69/100], lr=[[4.10566205447245e-05]]:: 100%|██████████| 134/134 [00:14<00:00,  9.38it/s, acc=0.733, loss=1.07]\n"
     ]
    },
    {
     "name": "stdout",
     "output_type": "stream",
     "text": [
      "--------------------------------------------------\n"
     ]
    },
    {
     "name": "stderr",
     "output_type": "stream",
     "text": [
      "[Train] EPOCH [70/100], lr=[[4.10566205447245e-05]]:: 100%|██████████| 139/139 [00:34<00:00,  4.06it/s, acc=0.857, loss=0.463]\n",
      "[Valid] EPOCH [70/100], lr=[[3.8858571775694126e-05]]:: 100%|██████████| 134/134 [00:14<00:00,  9.40it/s, acc=0.735, loss=1.09]\n"
     ]
    },
    {
     "name": "stdout",
     "output_type": "stream",
     "text": [
      "--------------------------------------------------\n"
     ]
    },
    {
     "name": "stderr",
     "output_type": "stream",
     "text": [
      "[Train] EPOCH [71/100], lr=[[3.8858571775694126e-05]]:: 100%|██████████| 139/139 [00:34<00:00,  4.06it/s, acc=0.859, loss=0.452]\n",
      "[Valid] EPOCH [71/100], lr=[[3.6682960763150344e-05]]:: 100%|██████████| 134/134 [00:14<00:00,  9.42it/s, acc=0.744, loss=1.05]\n"
     ]
    },
    {
     "name": "stdout",
     "output_type": "stream",
     "text": [
      "--------------------------------------------------\n"
     ]
    },
    {
     "name": "stderr",
     "output_type": "stream",
     "text": [
      "[Train] EPOCH [72/100], lr=[[3.6682960763150344e-05]]:: 100%|██████████| 139/139 [00:34<00:00,  4.07it/s, acc=0.868, loss=0.422]\n",
      "[Valid] EPOCH [72/100], lr=[[3.4534168898136354e-05]]:: 100%|██████████| 134/134 [00:14<00:00,  9.43it/s, acc=0.747, loss=1.03]\n"
     ]
    },
    {
     "name": "stdout",
     "output_type": "stream",
     "text": [
      "--------------------------------------------------\n"
     ]
    },
    {
     "name": "stderr",
     "output_type": "stream",
     "text": [
      "[Train] EPOCH [73/100], lr=[[3.4534168898136354e-05]]:: 100%|██████████| 139/139 [00:34<00:00,  4.06it/s, acc=0.87, loss=0.416] \n",
      "[Valid] EPOCH [73/100], lr=[[3.2416523561501434e-05]]:: 100%|██████████| 134/134 [00:14<00:00,  9.38it/s, acc=0.742, loss=1.04]\n"
     ]
    },
    {
     "name": "stdout",
     "output_type": "stream",
     "text": [
      "--------------------------------------------------\n"
     ]
    },
    {
     "name": "stderr",
     "output_type": "stream",
     "text": [
      "[Train] EPOCH [74/100], lr=[[3.2416523561501434e-05]]:: 100%|██████████| 139/139 [00:34<00:00,  4.06it/s, acc=0.873, loss=0.404]\n",
      "[Valid] EPOCH [74/100], lr=[[3.0334289409131755e-05]]:: 100%|██████████| 134/134 [00:14<00:00,  9.38it/s, acc=0.738, loss=1.1] \n"
     ]
    },
    {
     "name": "stdout",
     "output_type": "stream",
     "text": [
      "--------------------------------------------------\n"
     ]
    },
    {
     "name": "stderr",
     "output_type": "stream",
     "text": [
      "[Train] EPOCH [75/100], lr=[[3.0334289409131755e-05]]:: 100%|██████████| 139/139 [00:34<00:00,  4.06it/s, acc=0.881, loss=0.382]\n",
      "[Valid] EPOCH [75/100], lr=[[2.829165978350101e-05]]:: 100%|██████████| 134/134 [00:14<00:00,  9.38it/s, acc=0.747, loss=1.04]\n"
     ]
    },
    {
     "name": "stdout",
     "output_type": "stream",
     "text": [
      "--------------------------------------------------\n"
     ]
    },
    {
     "name": "stderr",
     "output_type": "stream",
     "text": [
      "[Train] EPOCH [76/100], lr=[[2.829165978350101e-05]]:: 100%|██████████| 139/139 [00:34<00:00,  4.06it/s, acc=0.887, loss=0.359]\n",
      "[Valid] EPOCH [76/100], lr=[[2.6292748268836678e-05]]:: 100%|██████████| 134/134 [00:14<00:00,  9.41it/s, acc=0.75, loss=1.05] \n"
     ]
    },
    {
     "name": "stdout",
     "output_type": "stream",
     "text": [
      "--------------------------------------------------\n"
     ]
    },
    {
     "name": "stderr",
     "output_type": "stream",
     "text": [
      "[Train] EPOCH [77/100], lr=[[2.6292748268836678e-05]]:: 100%|██████████| 139/139 [00:34<00:00,  4.08it/s, acc=0.889, loss=0.353]\n",
      "[Valid] EPOCH [77/100], lr=[[2.4341580406908895e-05]]:: 100%|██████████| 134/134 [00:14<00:00,  9.42it/s, acc=0.747, loss=1.07]\n"
     ]
    },
    {
     "name": "stdout",
     "output_type": "stream",
     "text": [
      "--------------------------------------------------\n"
     ]
    },
    {
     "name": "stderr",
     "output_type": "stream",
     "text": [
      "[Train] EPOCH [78/100], lr=[[2.4341580406908895e-05]]:: 100%|██████████| 139/139 [00:34<00:00,  4.06it/s, acc=0.891, loss=0.347]\n",
      "[Valid] EPOCH [78/100], lr=[[2.244208559012504e-05]]:: 100%|██████████| 134/134 [00:14<00:00,  9.40it/s, acc=0.746, loss=1.05]\n"
     ]
    },
    {
     "name": "stdout",
     "output_type": "stream",
     "text": [
      "--------------------------------------------------\n"
     ]
    },
    {
     "name": "stderr",
     "output_type": "stream",
     "text": [
      "[Train] EPOCH [79/100], lr=[[2.244208559012504e-05]]:: 100%|██████████| 139/139 [00:34<00:00,  4.06it/s, acc=0.895, loss=0.335]\n",
      "[Valid] EPOCH [79/100], lr=[[2.0598089148256348e-05]]:: 100%|██████████| 134/134 [00:14<00:00,  9.41it/s, acc=0.745, loss=1.06]\n"
     ]
    },
    {
     "name": "stdout",
     "output_type": "stream",
     "text": [
      "--------------------------------------------------\n"
     ]
    },
    {
     "name": "stderr",
     "output_type": "stream",
     "text": [
      "[Train] EPOCH [80/100], lr=[[2.0598089148256348e-05]]:: 100%|██████████| 139/139 [00:34<00:00,  4.05it/s, acc=0.9, loss=0.321]  \n",
      "[Valid] EPOCH [80/100], lr=[[1.8813304644732846e-05]]:: 100%|██████████| 134/134 [00:14<00:00,  9.38it/s, acc=0.745, loss=1.09]\n"
     ]
    },
    {
     "name": "stdout",
     "output_type": "stream",
     "text": [
      "--------------------------------------------------\n"
     ]
    },
    {
     "name": "stderr",
     "output_type": "stream",
     "text": [
      "[Train] EPOCH [81/100], lr=[[1.8813304644732846e-05]]:: 100%|██████████| 139/139 [00:34<00:00,  4.06it/s, acc=0.903, loss=0.312]\n",
      "[Valid] EPOCH [81/100], lr=[[1.7091326398020827e-05]]:: 100%|██████████| 134/134 [00:14<00:00,  9.40it/s, acc=0.752, loss=1.04]\n"
     ]
    },
    {
     "name": "stdout",
     "output_type": "stream",
     "text": [
      "--------------------------------------------------\n"
     ]
    },
    {
     "name": "stderr",
     "output_type": "stream",
     "text": [
      "[Train] EPOCH [82/100], lr=[[1.7091326398020827e-05]]:: 100%|██████████| 139/139 [00:34<00:00,  4.06it/s, acc=0.909, loss=0.299]\n",
      "[Valid] EPOCH [82/100], lr=[[1.543562224314376e-05]]:: 100%|██████████| 134/134 [00:14<00:00,  9.42it/s, acc=0.746, loss=1.07]\n"
     ]
    },
    {
     "name": "stdout",
     "output_type": "stream",
     "text": [
      "--------------------------------------------------\n"
     ]
    },
    {
     "name": "stderr",
     "output_type": "stream",
     "text": [
      "[Train] EPOCH [83/100], lr=[[1.543562224314376e-05]]:: 100%|██████████| 139/139 [00:34<00:00,  4.06it/s, acc=0.91, loss=0.297] \n",
      "[Valid] EPOCH [83/100], lr=[[1.3849526547924115e-05]]:: 100%|██████████| 134/134 [00:14<00:00,  9.39it/s, acc=0.751, loss=1.06]\n"
     ]
    },
    {
     "name": "stdout",
     "output_type": "stream",
     "text": [
      "--------------------------------------------------\n"
     ]
    },
    {
     "name": "stderr",
     "output_type": "stream",
     "text": [
      "[Train] EPOCH [84/100], lr=[[1.3849526547924115e-05]]:: 100%|██████████| 139/139 [00:34<00:00,  4.06it/s, acc=0.914, loss=0.285]\n",
      "[Valid] EPOCH [84/100], lr=[[1.233623349801028e-05]]:: 100%|██████████| 134/134 [00:14<00:00,  9.37it/s, acc=0.749, loss=1.08]\n"
     ]
    },
    {
     "name": "stdout",
     "output_type": "stream",
     "text": [
      "--------------------------------------------------\n"
     ]
    },
    {
     "name": "stderr",
     "output_type": "stream",
     "text": [
      "[Train] EPOCH [85/100], lr=[[1.233623349801028e-05]]:: 100%|██████████| 139/139 [00:34<00:00,  4.06it/s, acc=0.916, loss=0.282]\n",
      "[Valid] EPOCH [85/100], lr=[[1.0898790664211754e-05]]:: 100%|██████████| 134/134 [00:14<00:00,  9.40it/s, acc=0.747, loss=1.09]\n"
     ]
    },
    {
     "name": "stdout",
     "output_type": "stream",
     "text": [
      "--------------------------------------------------\n"
     ]
    },
    {
     "name": "stderr",
     "output_type": "stream",
     "text": [
      "[Train] EPOCH [86/100], lr=[[1.0898790664211754e-05]]:: 100%|██████████| 139/139 [00:34<00:00,  4.06it/s, acc=0.919, loss=0.273]\n",
      "[Valid] EPOCH [86/100], lr=[[9.540092865097145e-06]]:: 100%|██████████| 134/134 [00:14<00:00,  9.39it/s, acc=0.747, loss=1.08]\n"
     ]
    },
    {
     "name": "stdout",
     "output_type": "stream",
     "text": [
      "--------------------------------------------------\n"
     ]
    },
    {
     "name": "stderr",
     "output_type": "stream",
     "text": [
      "[Train] EPOCH [87/100], lr=[[9.540092865097145e-06]]:: 100%|██████████| 139/139 [00:34<00:00,  4.06it/s, acc=0.92, loss=0.272] \n",
      "[Valid] EPOCH [87/100], lr=[[8.262876337214793e-06]]:: 100%|██████████| 134/134 [00:14<00:00,  9.40it/s, acc=0.749, loss=1.07]\n"
     ]
    },
    {
     "name": "stdout",
     "output_type": "stream",
     "text": [
      "--------------------------------------------------\n"
     ]
    },
    {
     "name": "stderr",
     "output_type": "stream",
     "text": [
      "[Train] EPOCH [88/100], lr=[[8.262876337214793e-06]]:: 100%|██████████| 139/139 [00:34<00:00,  4.06it/s, acc=0.921, loss=0.267]\n",
      "[Valid] EPOCH [88/100], lr=[[7.0697132246765235e-06]]:: 100%|██████████| 134/134 [00:14<00:00,  9.37it/s, acc=0.747, loss=1.08]\n"
     ]
    },
    {
     "name": "stdout",
     "output_type": "stream",
     "text": [
      "--------------------------------------------------\n"
     ]
    },
    {
     "name": "stderr",
     "output_type": "stream",
     "text": [
      "[Train] EPOCH [89/100], lr=[[7.0697132246765235e-06]]:: 100%|██████████| 139/139 [00:34<00:00,  4.06it/s, acc=0.922, loss=0.261]\n",
      "[Valid] EPOCH [89/100], lr=[[5.963006399201691e-06]]:: 100%|██████████| 134/134 [00:14<00:00,  9.41it/s, acc=0.748, loss=1.07]\n"
     ]
    },
    {
     "name": "stdout",
     "output_type": "stream",
     "text": [
      "--------------------------------------------------\n"
     ]
    },
    {
     "name": "stderr",
     "output_type": "stream",
     "text": [
      "[Train] EPOCH [90/100], lr=[[5.963006399201691e-06]]:: 100%|██████████| 139/139 [00:34<00:00,  4.06it/s, acc=0.927, loss=0.251]\n",
      "[Valid] EPOCH [90/100], lr=[[4.9449846210533556e-06]]:: 100%|██████████| 134/134 [00:14<00:00,  9.36it/s, acc=0.752, loss=1.08]\n"
     ]
    },
    {
     "name": "stdout",
     "output_type": "stream",
     "text": [
      "--------------------------------------------------\n"
     ]
    },
    {
     "name": "stderr",
     "output_type": "stream",
     "text": [
      "[Train] EPOCH [91/100], lr=[[4.9449846210533556e-06]]:: 100%|██████████| 139/139 [00:34<00:00,  4.06it/s, acc=0.929, loss=0.246]\n",
      "[Valid] EPOCH [91/100], lr=[[4.017698050611692e-06]]:: 100%|██████████| 134/134 [00:14<00:00,  9.38it/s, acc=0.752, loss=1.09]\n"
     ]
    },
    {
     "name": "stdout",
     "output_type": "stream",
     "text": [
      "--------------------------------------------------\n"
     ]
    },
    {
     "name": "stderr",
     "output_type": "stream",
     "text": [
      "[Train] EPOCH [92/100], lr=[[4.017698050611692e-06]]:: 100%|██████████| 139/139 [00:34<00:00,  4.05it/s, acc=0.928, loss=0.248]\n",
      "[Valid] EPOCH [92/100], lr=[[3.1830141196238367e-06]]:: 100%|██████████| 134/134 [00:14<00:00,  9.37it/s, acc=0.748, loss=1.09]\n"
     ]
    },
    {
     "name": "stdout",
     "output_type": "stream",
     "text": [
      "--------------------------------------------------\n"
     ]
    },
    {
     "name": "stderr",
     "output_type": "stream",
     "text": [
      "[Train] EPOCH [93/100], lr=[[3.1830141196238367e-06]]:: 100%|██████████| 139/139 [00:34<00:00,  4.06it/s, acc=0.929, loss=0.246]\n",
      "[Valid] EPOCH [93/100], lr=[[2.442613770444865e-06]]:: 100%|██████████| 134/134 [00:14<00:00,  9.38it/s, acc=0.744, loss=1.09]\n"
     ]
    },
    {
     "name": "stdout",
     "output_type": "stream",
     "text": [
      "--------------------------------------------------\n"
     ]
    },
    {
     "name": "stderr",
     "output_type": "stream",
     "text": [
      "[Train] EPOCH [94/100], lr=[[2.442613770444865e-06]]:: 100%|██████████| 139/139 [00:34<00:00,  4.03it/s, acc=0.929, loss=0.246]\n",
      "[Valid] EPOCH [94/100], lr=[[1.7979880708436045e-06]]:: 100%|██████████| 134/134 [00:14<00:00,  9.28it/s, acc=0.751, loss=1.08]\n"
     ]
    },
    {
     "name": "stdout",
     "output_type": "stream",
     "text": [
      "--------------------------------------------------\n"
     ]
    },
    {
     "name": "stderr",
     "output_type": "stream",
     "text": [
      "[Train] EPOCH [95/100], lr=[[1.7979880708436045e-06]]:: 100%|██████████| 139/139 [00:34<00:00,  4.07it/s, acc=0.929, loss=0.241]\n",
      "[Valid] EPOCH [95/100], lr=[[1.2504352111905545e-06]]:: 100%|██████████| 134/134 [00:14<00:00,  9.39it/s, acc=0.745, loss=1.09]\n"
     ]
    },
    {
     "name": "stdout",
     "output_type": "stream",
     "text": [
      "--------------------------------------------------\n"
     ]
    },
    {
     "name": "stderr",
     "output_type": "stream",
     "text": [
      "[Train] EPOCH [96/100], lr=[[1.2504352111905545e-06]]:: 100%|██████████| 139/139 [00:34<00:00,  4.05it/s, acc=0.932, loss=0.239]\n",
      "[Valid] EPOCH [96/100], lr=[[8.01057890075297e-07]]:: 100%|██████████| 134/134 [00:14<00:00,  9.36it/s, acc=0.75, loss=1.09] \n"
     ]
    },
    {
     "name": "stdout",
     "output_type": "stream",
     "text": [
      "--------------------------------------------------\n"
     ]
    },
    {
     "name": "stderr",
     "output_type": "stream",
     "text": [
      "[Train] EPOCH [97/100], lr=[[8.01057890075297e-07]]:: 100%|██████████| 139/139 [00:34<00:00,  4.06it/s, acc=0.932, loss=0.238]\n",
      "[Valid] EPOCH [97/100], lr=[[4.507610936182366e-07]]:: 100%|██████████| 134/134 [00:14<00:00,  9.38it/s, acc=0.749, loss=1.08]\n"
     ]
    },
    {
     "name": "stdout",
     "output_type": "stream",
     "text": [
      "--------------------------------------------------\n"
     ]
    },
    {
     "name": "stderr",
     "output_type": "stream",
     "text": [
      "[Train] EPOCH [98/100], lr=[[4.507610936182366e-07]]:: 100%|██████████| 139/139 [00:34<00:00,  4.07it/s, acc=0.928, loss=0.247]\n",
      "[Valid] EPOCH [98/100], lr=[[2.0025027294901817e-07]]:: 100%|██████████| 134/134 [00:14<00:00,  9.39it/s, acc=0.75, loss=1.09] \n"
     ]
    },
    {
     "name": "stdout",
     "output_type": "stream",
     "text": [
      "--------------------------------------------------\n"
     ]
    },
    {
     "name": "stderr",
     "output_type": "stream",
     "text": [
      "[Train] EPOCH [99/100], lr=[[2.0025027294901817e-07]]:: 100%|██████████| 139/139 [00:34<00:00,  4.06it/s, acc=0.93, loss=0.245] \n",
      "[Valid] EPOCH [99/100], lr=[[5.002992352183303e-08]]:: 100%|██████████| 134/134 [00:14<00:00,  9.40it/s, acc=0.754, loss=1.1] \n"
     ]
    },
    {
     "name": "stdout",
     "output_type": "stream",
     "text": [
      "--------------------------------------------------\n"
     ]
    },
    {
     "name": "stderr",
     "output_type": "stream",
     "text": [
      "[Train] EPOCH [100/100], lr=[[5.002992352183303e-08]]:: 100%|██████████| 139/139 [00:34<00:00,  4.06it/s, acc=0.931, loss=0.239]\n",
      "[Valid] EPOCH [100/100], lr=[[4.02569128708331e-10]]:: 100%|██████████| 134/134 [00:14<00:00,  9.38it/s, acc=0.75, loss=1.08] \n"
     ]
    }
   ],
   "source": [
    "history = []\n",
    "for epoch in range(1, NUM_EPOCHS+1):\n",
    "    print('-' * 50)\n",
    "    train_loss, train_acc = train(train_dl, model, criterion, optimizer, epoch, NUM_EPOCHS, lr_scheduler)\n",
    "    lr_scheduler.step()\n",
    "    valid_loss, valid_acc = valid(test_dl, model, criterion, epoch, NUM_EPOCHS)\n",
    "    history.append([epoch, train_loss, train_acc, valid_loss, valid_acc])"
   ]
  },
  {
   "cell_type": "code",
   "execution_count": 11,
   "metadata": {},
   "outputs": [],
   "source": [
    "def show_images(imgs, num_rows, num_cols, titles=None, scale=1.5):\n",
    "    \"\"\"Plot a list of images.\n",
    "\n",
    "    Defined in :numref:`sec_fashion_mnist`\"\"\"\n",
    "    figsize = (num_cols * scale, num_rows * scale)\n",
    "    _, axes = plt.subplots(num_rows, num_cols, figsize=figsize)\n",
    "    axes = axes.flatten()\n",
    "    for i, (ax, img) in enumerate(zip(axes, imgs)):\n",
    "        if torch.is_tensor(img):\n",
    "            # Tensor Image\n",
    "            ax.imshow(img.numpy())\n",
    "        else:\n",
    "            # PIL Image\n",
    "            ax.imshow(img)\n",
    "        ax.axes.get_xaxis().set_visible(False)\n",
    "        ax.axes.get_yaxis().set_visible(False)\n",
    "        if titles:\n",
    "            ax.set_title(titles[i])\n",
    "    return axes"
   ]
  },
  {
   "cell_type": "code",
   "execution_count": 12,
   "metadata": {},
   "outputs": [
    {
     "name": "stderr",
     "output_type": "stream",
     "text": [
      "Clipping input data to the valid range for imshow with RGB data ([0..1] for floats or [0..255] for integers).\n",
      "Clipping input data to the valid range for imshow with RGB data ([0..1] for floats or [0..255] for integers).\n",
      "Clipping input data to the valid range for imshow with RGB data ([0..1] for floats or [0..255] for integers).\n",
      "Clipping input data to the valid range for imshow with RGB data ([0..1] for floats or [0..255] for integers).\n"
     ]
    },
    {
     "data": {
      "text/plain": [
       "array([<AxesSubplot:>, <AxesSubplot:>, <AxesSubplot:>, <AxesSubplot:>,\n",
       "       <AxesSubplot:>, <AxesSubplot:>, <AxesSubplot:>, <AxesSubplot:>,\n",
       "       <AxesSubplot:>, <AxesSubplot:>, <AxesSubplot:>, <AxesSubplot:>],\n",
       "      dtype=object)"
      ]
     },
     "execution_count": 12,
     "metadata": {},
     "output_type": "execute_result"
    },
    {
     "name": "stderr",
     "output_type": "stream",
     "text": [
      "/home/qianq/mycodes/d2l-zh/venv/lib/python3.11/site-packages/IPython/core/pylabtools.py:152: MatplotlibDeprecationWarning: savefig() got unexpected keyword argument \"orientation\" which is no longer supported as of 3.3 and will become an error two minor releases later\n",
      "  fig.canvas.print_figure(bytes_io, **kw)\n",
      "/home/qianq/mycodes/d2l-zh/venv/lib/python3.11/site-packages/IPython/core/pylabtools.py:152: MatplotlibDeprecationWarning: savefig() got unexpected keyword argument \"facecolor\" which is no longer supported as of 3.3 and will become an error two minor releases later\n",
      "  fig.canvas.print_figure(bytes_io, **kw)\n",
      "/home/qianq/mycodes/d2l-zh/venv/lib/python3.11/site-packages/IPython/core/pylabtools.py:152: MatplotlibDeprecationWarning: savefig() got unexpected keyword argument \"edgecolor\" which is no longer supported as of 3.3 and will become an error two minor releases later\n",
      "  fig.canvas.print_figure(bytes_io, **kw)\n",
      "/home/qianq/mycodes/d2l-zh/venv/lib/python3.11/site-packages/IPython/core/pylabtools.py:152: MatplotlibDeprecationWarning: savefig() got unexpected keyword argument \"bbox_inches_restore\" which is no longer supported as of 3.3 and will become an error two minor releases later\n",
      "  fig.canvas.print_figure(bytes_io, **kw)\n"
     ]
    },
    {
     "data": {
      "image/png": "[encoded data removed]",
      "text/plain": [
       "<Figure size 800x600 with 12 Axes>"
      ]
     },
     "metadata": {},
     "output_type": "display_data"
    }
   ],
   "source": [
    "n, imgs = 4, []\n",
    "index, (X, Y) = next(enumerate(test_iter))\n",
    "\n",
    "X = X[:n].to('cuda:0')\n",
    "y_hat = model(X).argmax(dim=1)\n",
    "\n",
    "for i in range(n):\n",
    "    x = X[i].permute(1,2,0).to('cpu')\n",
    "    pred = VOCSegDataset.label2image(y_hat[i], device).to('cpu')\n",
    "    y = VOCSegDataset.label2image(Y[i], device).to('cpu')\n",
    "    imgs += [x, pred, y]\n",
    "\n",
    "show_images(imgs[::3] + imgs[1::3] + imgs[2::3], 3, n, scale=2)"
   ]
  }
 ],
 "metadata": {
  "kernelspec": {
   "display_name": "venv",
   "language": "python",
   "name": "python3"
  },
  "language_info": {
   "codemirror_mode": {
    "name": "ipython",
    "version": 3
   },
   "file_extension": ".py",
   "mimetype": "text/x-python",
   "name": "python",
   "nbconvert_exporter": "python",
   "pygments_lexer": "ipython3",
   "version": "3.10.6"
  },
  "orig_nbformat": 4
 },
 "nbformat": 4,
 "nbformat_minor": 2
}
